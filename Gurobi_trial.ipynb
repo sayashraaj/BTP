{
  "nbformat": 4,
  "nbformat_minor": 0,
  "metadata": {
    "colab": {
      "provenance": [],
      "authorship_tag": "ABX9TyOI6c8bQNTL9pTBtPkLQCnx",
      "include_colab_link": true
    },
    "kernelspec": {
      "name": "python3",
      "display_name": "Python 3"
    },
    "language_info": {
      "name": "python"
    }
  },
  "cells": [
    {
      "cell_type": "markdown",
      "metadata": {
        "id": "view-in-github",
        "colab_type": "text"
      },
      "source": [
        "<a href=\"https://colab.research.google.com/github/sayashraaj/BTP/blob/main/Gurobi_trial.ipynb\" target=\"_parent\"><img src=\"https://colab.research.google.com/assets/colab-badge.svg\" alt=\"Open In Colab\"/></a>"
      ]
    },
    {
      "cell_type": "markdown",
      "source": [
        "# **TO DO**\n",
        "\n",
        "\n",
        "\n",
        "1. Big M using indicator variable\n",
        "2. Model is infeasible when t[origin] is used\n",
        "3. Convert DB to 14 Day DB\n",
        "4. Build Cost from DB, not dummy"
      ],
      "metadata": {
        "id": "FVk6smHTr9MP"
      }
    },
    {
      "cell_type": "code",
      "execution_count": null,
      "metadata": {
        "colab": {
          "base_uri": "https://localhost:8080/"
        },
        "id": "gxQ6oLhLv2ac",
        "outputId": "4f95251f-ed16-4ec6-8305-fc13841ab556"
      },
      "outputs": [
        {
          "output_type": "stream",
          "name": "stdout",
          "text": [
            "Looking in indexes: https://pypi.org/simple, https://us-python.pkg.dev/colab-wheels/public/simple/\n",
            "Collecting gurobipy\n",
            "  Downloading gurobipy-10.0.1-cp39-cp39-manylinux2014_x86_64.whl (12.8 MB)\n",
            "\u001b[2K     \u001b[90m━━━━━━━━━━━━━━━━━━━━━━━━━━━━━━━━━━━━━━━━\u001b[0m \u001b[32m12.8/12.8 MB\u001b[0m \u001b[31m25.8 MB/s\u001b[0m eta \u001b[36m0:00:00\u001b[0m\n",
            "\u001b[?25hInstalling collected packages: gurobipy\n",
            "Successfully installed gurobipy-10.0.1\n"
          ]
        }
      ],
      "source": [
        "!pip install gurobipy  # install gurobipy, if not already installed\n",
        "import gurobipy as gp  # import the installed package"
      ]
    },
    {
      "cell_type": "code",
      "source": [
        "# Create an environment with your WLS license\n",
        "params = {\n",
        "\"WLSACCESSID\": 'f5a52c8d-c747-487a-bf9e-fd3f23ec1c72',\n",
        "\"WLSSECRET\": '0bff086e-4c28-4979-b1d9-eadc994a435f',\n",
        "\"LICENSEID\": 942624,\n",
        "}\n",
        "env = gp.Env(params=params)\n",
        "\n",
        "# Create the model within the Gurobi environment\n",
        "model = gp.Model(env=env)"
      ],
      "metadata": {
        "colab": {
          "base_uri": "https://localhost:8080/"
        },
        "id": "Hph6shxZxxo5",
        "outputId": "c7c509fd-1587-472f-d722-e426f0a7d0dc"
      },
      "execution_count": null,
      "outputs": [
        {
          "output_type": "stream",
          "name": "stdout",
          "text": [
            "Set parameter WLSAccessID\n",
            "Set parameter WLSSecret\n",
            "Set parameter LicenseID to value 942624\n",
            "Academic license - for non-commercial use only - registered to ce19b113@smail.iitm.ac.in\n"
          ]
        }
      ]
    },
    {
      "cell_type": "code",
      "source": [
        "# example max flow problem\n",
        "\n",
        "from gurobipy import *\n",
        "\n",
        "nodes = [1, 2, 3, 4, 5] # Make a list of nodes\n",
        "links = [(1, 2), (1, 3), (2, 3), (2, 4), (2, 5), (3, 4), (3, 5), (4, 5)] # Make a list of links\n",
        "capacity = {(1, 2):15, (1, 3):8, (2, 3):float(\"inf\"), (2, 4):4, (2, 5):10, (3, 4): 15, (3, 5):4, (4, 5):float(\"inf\")}\n",
        "\n",
        "m = Model()\n",
        "v = m.addVar(vtype = GRB.CONTINUOUS)\n",
        "x = m.addVars(links, vtype = GRB.INTEGER)\n",
        "\n",
        "forwardStar = {1:[2, 3], 2:[3, 4, 5], 3:[4], 4:[5], 5:[]}\n",
        "backwardStar = {1:[], 2:[1], 3:[1, 2], 4:[2, 3], 5:[2, 4]}\n",
        "\n",
        "# Constraints\n",
        "origin = 1\n",
        "dest = 5\n",
        "\n",
        "m.addConstr(sum([x[origin, k] for k in forwardStar[origin]]) == v)\n",
        "m.addConstr(sum([x[k, dest] for k in backwardStar[dest]]) == v)\n",
        "\n",
        "for n in nodes:\n",
        "    if n not in [origin, dest]:\n",
        "        m.addConstr(sum([x[n, k] for k in forwardStar[n]]) == sum([x[k, n] for k in backwardStar[n]]))\n",
        "        \n",
        "for a in links:\n",
        "    m.addConstr(x[a] <= capacity[a])\n",
        "    \n",
        "obj = v\n",
        "m.Params.outputFlag = 0\n",
        "m.setObjective(obj, sense = GRB.MAXIMIZE)\n",
        "m.optimize()\n",
        "\n",
        "\n",
        "print('maximum flow from 1 to 5 is: ', v.x)\n",
        "for (a, b) in links:\n",
        "    print('Flow on link ', (a, b), ' is:', x[a, b].x)"
      ],
      "metadata": {
        "colab": {
          "base_uri": "https://localhost:8080/"
        },
        "id": "MciCy7U2yYY3",
        "outputId": "7a119514-2e69-4a02-dbc1-e4b6a7034df4"
      },
      "execution_count": null,
      "outputs": [
        {
          "output_type": "stream",
          "name": "stdout",
          "text": [
            "Restricted license - for non-production use only - expires 2024-10-28\n",
            "maximum flow from 1 to 5 is:  23.0\n",
            "Flow on link  (1, 2)  is: 15.0\n",
            "Flow on link  (1, 3)  is: 8.0\n",
            "Flow on link  (2, 3)  is: 1.0\n",
            "Flow on link  (2, 4)  is: 4.0\n",
            "Flow on link  (2, 5)  is: 10.0\n",
            "Flow on link  (3, 4)  is: 9.0\n",
            "Flow on link  (3, 5)  is: -0.0\n",
            "Flow on link  (4, 5)  is: 13.0\n"
          ]
        }
      ]
    },
    {
      "cell_type": "markdown",
      "source": [
        "Actual Network"
      ],
      "metadata": {
        "id": "49dCE2L1Bzxk"
      }
    },
    {
      "cell_type": "code",
      "source": [
        "# Actual network\n",
        "nodes = [0, 1, 2, 3, 4, 5, 6, 7, 8, 9, 10, 11, 12, 13, 14, 15, 16, 17, 18, 19, 20, 21, 22, 23, 24, 25, 26, 27, 28, 29, 30, 31, 32, 33, 34, 35, 36, 37, 38, 39, 40, 41, 42, 43, 44, 45, 46, 47, 48, 49, 50, 51, 52, 53, 54, 55, 56, 57, 58, 59, 60, 61, 62, 63, 64, 65, 66, 67, 68, 69, 70, 71, 72, 73, 74, 75, 76, 77, 78, 79, 80, 81, 82, 83, 84, 85, 86, 87, 88, 89, 90, 91, 92, 93, 94, 95, 96, 97, 98, 99, 100, 101, 102, 103, 104, 105, 106, 107]\n",
        "links = [(0, 1), (1, 2), (2, 3), (3, 4), (4, 5), (5, 6), (6, 7), (7, 8), (8, 9), (9, 10), (10, 11), (11, 12), (12, 13), (13, 14), (14, 15), (15, 16), (16, 17), (17, 18), (18, 19), (19, 20), (20, 21), (21, 22), (22, 23), (23, 24), (24, 25), (25, 26), (26, 27), (27, 28), (28, 29), (28, 79), (28, 80), (29, 30), (29, 77), (29, 78), (30, 31), (30, 77), (30, 78), (31, 32), (32, 33), (33, 34), (34, 35), (35, 36), (36, 37), (37, 38), (38, 39), (39, 40), (40, 41), (41, 42), (42, 43), (43, 44), (44, 45), (45, 46), (46, 47), (47, 48), (48, 49), (49, 50), (50, 51), (51, 52), (52, 53), (54, 55), (55, 56), (56, 57), (57, 58), (58, 59), (59, 60), (60, 61), (61, 62), (62, 63), (63, 64), (64, 65), (65, 66), (66, 67), (67, 68), (68, 69), (69, 70), (70, 71), (71, 72), (72, 73), (73, 74), (74, 75), (74, 33), (74, 34), (75, 76), (75, 31), (75, 32), (76, 77), (76, 31), (76, 32), (77, 78), (78, 79), (79, 80), (80, 81), (81, 82), (82, 83), (83, 84), (84, 85), (85, 86), (86, 87), (87, 88), (88, 89), (89, 90), (90, 91), (91, 92), (92, 93), (93, 94), (94, 95), (95, 96), (96, 97), (97, 98), (98, 99), (99, 100), (100, 101), (101, 102), (102, 103), (103, 104), (104, 105), (105, 106), (106, 107)]\n",
        "cost = [[0 for x in nodes] for y in nodes]\n",
        "for (a,b) in links:\n",
        "  cost[a][b] = 1"
      ],
      "metadata": {
        "id": "COKJqBr-Bw9a"
      },
      "execution_count": null,
      "outputs": []
    },
    {
      "cell_type": "markdown",
      "source": [
        "Visualisation"
      ],
      "metadata": {
        "id": "6vdyPHKUB1l6"
      }
    },
    {
      "cell_type": "code",
      "source": [
        "# visualisation of the actual network\n",
        "\n",
        "import networkx as nx #improting the package as \"nx\"\n",
        "\n",
        "g = nx.DiGraph() # Initialize the directed graph\n",
        "g.add_nodes_from(nodes) # Add nodes to the graph from the list we created\n",
        "g.add_edges_from(links) # Add links from the list we created\n",
        "#Check if the nodes and links are added by printing them\n",
        "print(g.nodes)\n",
        "print(g.edges)\n",
        "# generate node positions:\n",
        "pos = nx.random_layout(g)\n",
        "# draw graph\n",
        "nx.draw_networkx(g, pos=pos, font_size=16, node_color='blue', font_color='white')\n",
        "# draw subgraph for highlights\n",
        "nx.draw_networkx(g.subgraph(29), pos=pos, font_size=16, node_color='red', font_color='green')"
      ],
      "metadata": {
        "colab": {
          "base_uri": "https://localhost:8080/",
          "height": 280
        },
        "id": "eVVKiExc71PZ",
        "outputId": "2e8df0be-cd4d-40ed-a9e9-a18f0c77aaa2"
      },
      "execution_count": null,
      "outputs": [
        {
          "output_type": "stream",
          "name": "stdout",
          "text": [
            "[0, 1, 2, 3, 4, 5, 6, 7, 8, 9, 10, 11, 12, 13, 14, 15, 16, 17, 18, 19, 20, 21, 22, 23, 24, 25, 26, 27, 28, 29, 30, 31, 32, 33, 34, 35, 36, 37, 38, 39, 40, 41, 42, 43, 44, 45, 46, 47, 48, 49, 50, 51, 52, 53, 54, 55, 56, 57, 58, 59, 60, 61, 62, 63, 64, 65, 66, 67, 68, 69, 70, 71, 72, 73, 74, 75, 76, 77, 78, 79, 80, 81, 82, 83, 84, 85, 86, 87, 88, 89, 90, 91, 92, 93, 94, 95, 96, 97, 98, 99, 100, 101, 102, 103, 104, 105, 106, 107]\n",
            "[(0, 1), (1, 2), (2, 3), (3, 4), (4, 5), (5, 6), (6, 7), (7, 8), (8, 9), (9, 10), (10, 11), (11, 12), (12, 13), (13, 14), (14, 15), (15, 16), (16, 17), (17, 18), (18, 19), (19, 20), (20, 21), (21, 22), (22, 23), (23, 24), (24, 25), (25, 26), (26, 27), (27, 28), (28, 29), (28, 79), (28, 80), (29, 30), (29, 77), (29, 78), (30, 31), (30, 77), (30, 78), (31, 32), (32, 33), (33, 34), (34, 35), (35, 36), (36, 37), (37, 38), (38, 39), (39, 40), (40, 41), (41, 42), (42, 43), (43, 44), (44, 45), (45, 46), (46, 47), (47, 48), (48, 49), (49, 50), (50, 51), (51, 52), (52, 53), (54, 55), (55, 56), (56, 57), (57, 58), (58, 59), (59, 60), (60, 61), (61, 62), (62, 63), (63, 64), (64, 65), (65, 66), (66, 67), (67, 68), (68, 69), (69, 70), (70, 71), (71, 72), (72, 73), (73, 74), (74, 75), (74, 33), (74, 34), (75, 76), (75, 31), (75, 32), (76, 77), (76, 31), (76, 32), (77, 78), (78, 79), (79, 80), (80, 81), (81, 82), (82, 83), (83, 84), (84, 85), (85, 86), (86, 87), (87, 88), (88, 89), (89, 90), (90, 91), (91, 92), (92, 93), (93, 94), (94, 95), (95, 96), (96, 97), (97, 98), (98, 99), (99, 100), (100, 101), (101, 102), (102, 103), (103, 104), (104, 105), (105, 106), (106, 107)]\n"
          ]
        },
        {
          "output_type": "display_data",
          "data": {
            "text/plain": [
              "<Figure size 432x288 with 1 Axes>"
            ],
            "image/png": "[encoded data removed]"
          },
          "metadata": {}
        }
      ]
    },
    {
      "cell_type": "code",
      "source": [
        "def forwardStarMaker(arr):\n",
        "  ans = {}\n",
        "  for (a,b) in arr:\n",
        "    if a in ans:\n",
        "      ans[a].append(b)\n",
        "    else:\n",
        "      ans[a] = [b]\n",
        "    \n",
        "    # print(\"**************** forwardStar ****************\")\n",
        "    # for node in nodes:\n",
        "    #   if node in ans:\n",
        "    #     print(\"node\",node,\":\",ans[node])\n",
        "    #   else:\n",
        "    #     print(\"NOT FOUND\", node)\n",
        "  return ans\n",
        "\n",
        "def backwardStarMaker(arr):\n",
        "  ans = {}\n",
        "  for (a,b) in arr:\n",
        "    if b in ans:\n",
        "      ans[b].append(a)\n",
        "    else:\n",
        "      ans[b] = [a]\n",
        "    # print(\"**************** backwardStar ****************\")\n",
        "    # for node in nodes:\n",
        "    #   if node in ans:\n",
        "    #     print(\"node\",node,\":\",ans[node])\n",
        "    #   else:\n",
        "    #     print(\"NOT FOUND\", node)\n",
        "  return ans\n",
        "# def solutionTracer(x, origin):\n",
        "#   for i in x"
      ],
      "metadata": {
        "id": "9h3puzuUkX1t"
      },
      "execution_count": null,
      "outputs": []
    },
    {
      "cell_type": "code",
      "source": [
        "# LP trial\n",
        "\n",
        "from gurobipy import *\n",
        "\n",
        "N = len(nodes)\n",
        "\n",
        "m = Model()\n",
        "t = m.addVars(nodes, vtype = GRB.INTEGER)\n",
        "x = m.addVars(links, vtype = GRB.BINARY)\n",
        "\n",
        "forwardStar = forwardStarMaker(links)\n",
        "backwardStar = backwardStarMaker(links)\n",
        "\n",
        "# Constraints\n",
        "origin = 0\n",
        "dest = 76\n",
        "nodesToVisit = [79,3]\n",
        "\n",
        "m.addConstr(sum([x[origin, k] for k in forwardStar[origin]]) == 1)  # exit from origin\n",
        "m.addConstr(sum([x[k, dest] for k in backwardStar[dest]]) == 1) # entry to dest\n",
        "\n",
        "m.addConstr(t[origin] >= 0.0)\n",
        "\n",
        "for (i,j) in links:\n",
        "  m.addConstr(t[nodes[j]]-t[nodes[i]]>=cost[i][j]+1+1000*(1-x[i,j]))\n",
        "  # m.addConstr(t[nodes[j]]-t[nodes[i]]<=cost[i][j]+1000+1000*(1-x[i,j]))\n",
        "\n",
        "for n in nodes:\n",
        "    if n not in [origin] and n in forwardStar and n in backwardStar:\n",
        "      sum1 = 0\n",
        "      sum2 = 0\n",
        "      for k in nodes:\n",
        "        if k in forwardStar[n] and (n,k) in links:\n",
        "          sum1 = sum1 + x[n,k]\n",
        "        if k in backwardStar[n] and (k,n) in links:\n",
        "          sum2 = sum2 + x[k,n]\n",
        "      m.addConstr(sum1==sum2)\n",
        "\n",
        "obj = sum([cost[i][j]*x[i,j] for (i,j) in links])\n",
        "m.Params.outputFlag = 0\n",
        "m.setObjective(obj, sense = GRB.MINIMIZE)\n",
        "m.optimize()\n",
        "\n",
        "if m.status == GRB.OPTIMAL:\n",
        "    print('model is optimal')\n",
        "elif m.status ==GRB.INFEASIBLE:\n",
        "    print('model is infeasible')\n",
        "elif m.status == GRB.UNBOUNDED:\n",
        "    print('model is unbounded')\n",
        "else:\n",
        "    print('Not sure')"
      ],
      "metadata": {
        "id": "vqL6uiyldN_C",
        "colab": {
          "base_uri": "https://localhost:8080/"
        },
        "outputId": "7ed8a7c7-a885-43c0-8e08-ecd8ad9c0b67"
      },
      "execution_count": null,
      "outputs": [
        {
          "output_type": "stream",
          "name": "stdout",
          "text": [
            "model is optimal\n"
          ]
        }
      ]
    },
    {
      "cell_type": "code",
      "source": [
        "# Displaying the Solution\n",
        "\n",
        "# def solutionTracer(ans,start):\n",
        "#   links1 = links\n",
        "#   flag=0\n",
        "#   while flag==0:\n",
        "#     flag=1\n",
        "#     for i in range(len(links1)):\n",
        "#       (a,b) = links1[i]\n",
        "#       if a == start and ans[a,b].x == 1:\n",
        "#         print(a,b)\n",
        "#         start == b\n",
        "#         # ans[a,b] = 0\n",
        "#         links1[i]=(1000,1000)\n",
        "#         flag=0\n",
        "#         break\n",
        "\n",
        "for (a, b) in links: \n",
        "  if x[a,b].x:\n",
        "    print('Flow on link ', (a, b), ' is:', x[a, b].x)\n",
        "\n",
        "for n in nodes:\n",
        "  print(t[n].x)"
      ],
      "metadata": {
        "colab": {
          "base_uri": "https://localhost:8080/"
        },
        "id": "5yvKNp20iM_D",
        "outputId": "68a47ae2-7836-4caa-b4dc-ac0a69088744"
      },
      "execution_count": null,
      "outputs": [
        {
          "output_type": "stream",
          "name": "stdout",
          "text": [
            "Flow on link  (0, 1)  is: 1.0\n",
            "Flow on link  (1, 2)  is: 1.0\n",
            "Flow on link  (2, 3)  is: 1.0\n",
            "Flow on link  (3, 4)  is: 1.0\n",
            "Flow on link  (4, 5)  is: 1.0\n",
            "Flow on link  (5, 6)  is: 1.0\n",
            "Flow on link  (6, 7)  is: 1.0\n",
            "Flow on link  (7, 8)  is: 1.0\n",
            "Flow on link  (8, 9)  is: 1.0\n",
            "Flow on link  (9, 10)  is: 1.0\n",
            "Flow on link  (10, 11)  is: 1.0\n",
            "Flow on link  (11, 12)  is: 1.0\n",
            "Flow on link  (12, 13)  is: 1.0\n",
            "Flow on link  (13, 14)  is: 1.0\n",
            "Flow on link  (14, 15)  is: 1.0\n",
            "Flow on link  (15, 16)  is: 1.0\n",
            "Flow on link  (16, 17)  is: 1.0\n",
            "Flow on link  (17, 18)  is: 1.0\n",
            "Flow on link  (18, 19)  is: 1.0\n",
            "Flow on link  (19, 20)  is: 1.0\n",
            "Flow on link  (20, 21)  is: 1.0\n",
            "Flow on link  (21, 22)  is: 1.0\n",
            "Flow on link  (22, 23)  is: 1.0\n",
            "Flow on link  (23, 24)  is: 1.0\n",
            "Flow on link  (24, 25)  is: 1.0\n",
            "Flow on link  (25, 26)  is: 1.0\n",
            "Flow on link  (26, 27)  is: 1.0\n",
            "Flow on link  (27, 28)  is: 1.0\n",
            "Flow on link  (28, 80)  is: 1.0\n",
            "Flow on link  (32, 33)  is: 1.0\n",
            "Flow on link  (33, 34)  is: 1.0\n",
            "Flow on link  (34, 35)  is: 1.0\n",
            "Flow on link  (35, 36)  is: 1.0\n",
            "Flow on link  (36, 37)  is: 1.0\n",
            "Flow on link  (37, 38)  is: 1.0\n",
            "Flow on link  (38, 39)  is: 1.0\n",
            "Flow on link  (39, 40)  is: 1.0\n",
            "Flow on link  (40, 41)  is: 1.0\n",
            "Flow on link  (41, 42)  is: 1.0\n",
            "Flow on link  (42, 43)  is: 1.0\n",
            "Flow on link  (43, 44)  is: 1.0\n",
            "Flow on link  (44, 45)  is: 1.0\n",
            "Flow on link  (45, 46)  is: 1.0\n",
            "Flow on link  (46, 47)  is: 1.0\n",
            "Flow on link  (47, 48)  is: 1.0\n",
            "Flow on link  (48, 49)  is: 1.0\n",
            "Flow on link  (49, 50)  is: 1.0\n",
            "Flow on link  (50, 51)  is: 1.0\n",
            "Flow on link  (51, 52)  is: 1.0\n",
            "Flow on link  (52, 53)  is: 1.0\n",
            "Flow on link  (54, 55)  is: 1.0\n",
            "Flow on link  (55, 56)  is: 1.0\n",
            "Flow on link  (56, 57)  is: 1.0\n",
            "Flow on link  (57, 58)  is: 1.0\n",
            "Flow on link  (58, 59)  is: 1.0\n",
            "Flow on link  (59, 60)  is: 1.0\n",
            "Flow on link  (60, 61)  is: 1.0\n",
            "Flow on link  (61, 62)  is: 1.0\n",
            "Flow on link  (62, 63)  is: 1.0\n",
            "Flow on link  (63, 64)  is: 1.0\n",
            "Flow on link  (64, 65)  is: 1.0\n",
            "Flow on link  (65, 66)  is: 1.0\n",
            "Flow on link  (66, 67)  is: 1.0\n",
            "Flow on link  (67, 68)  is: 1.0\n",
            "Flow on link  (68, 69)  is: 1.0\n",
            "Flow on link  (69, 70)  is: 1.0\n",
            "Flow on link  (70, 71)  is: 1.0\n",
            "Flow on link  (71, 72)  is: 1.0\n",
            "Flow on link  (72, 73)  is: 1.0\n",
            "Flow on link  (73, 74)  is: 1.0\n",
            "Flow on link  (74, 75)  is: 1.0\n",
            "Flow on link  (75, 76)  is: 1.0\n",
            "Flow on link  (76, 32)  is: 1.0\n",
            "Flow on link  (80, 81)  is: 1.0\n",
            "Flow on link  (81, 82)  is: 1.0\n",
            "Flow on link  (82, 83)  is: 1.0\n",
            "Flow on link  (83, 84)  is: 1.0\n",
            "Flow on link  (84, 85)  is: 1.0\n",
            "Flow on link  (85, 86)  is: 1.0\n",
            "Flow on link  (86, 87)  is: 1.0\n",
            "Flow on link  (87, 88)  is: 1.0\n",
            "Flow on link  (88, 89)  is: 1.0\n",
            "Flow on link  (89, 90)  is: 1.0\n",
            "Flow on link  (90, 91)  is: 1.0\n",
            "Flow on link  (91, 92)  is: 1.0\n",
            "Flow on link  (92, 93)  is: 1.0\n",
            "Flow on link  (93, 94)  is: 1.0\n",
            "Flow on link  (94, 95)  is: 1.0\n",
            "Flow on link  (95, 96)  is: 1.0\n",
            "Flow on link  (96, 97)  is: 1.0\n",
            "Flow on link  (97, 98)  is: 1.0\n",
            "Flow on link  (98, 99)  is: 1.0\n",
            "Flow on link  (99, 100)  is: 1.0\n",
            "Flow on link  (100, 101)  is: 1.0\n",
            "Flow on link  (101, 102)  is: 1.0\n",
            "Flow on link  (102, 103)  is: 1.0\n",
            "Flow on link  (103, 104)  is: 1.0\n",
            "Flow on link  (104, 105)  is: 1.0\n",
            "Flow on link  (105, 106)  is: 1.0\n",
            "Flow on link  (106, 107)  is: 1.0\n",
            "-0.0\n",
            "2.0\n",
            "4.0\n",
            "6.0\n",
            "8.0\n",
            "10.0\n",
            "12.0\n",
            "14.0\n",
            "16.0\n",
            "18.0\n",
            "20.0\n",
            "22.0\n",
            "24.0\n",
            "26.0\n",
            "28.0\n",
            "30.0\n",
            "32.0\n",
            "34.0\n",
            "36.0\n",
            "38.0\n",
            "40.0\n",
            "42.0\n",
            "44.0\n",
            "46.0\n",
            "48.0\n",
            "50.0\n",
            "52.0\n",
            "54.0\n",
            "56.0\n",
            "1058.0\n",
            "2060.0\n",
            "3062.0\n",
            "4064.0\n",
            "4066.0\n",
            "4068.0\n",
            "4070.0\n",
            "4072.0\n",
            "4074.0\n",
            "4076.0\n",
            "4078.0\n",
            "4080.0\n",
            "4082.0\n",
            "4084.0\n",
            "4086.0\n",
            "4088.0\n",
            "4090.0\n",
            "4092.0\n",
            "4094.0\n",
            "4096.0\n",
            "4098.0\n",
            "4100.0\n",
            "4102.0\n",
            "4104.0\n",
            "4106.0\n",
            "-0.0\n",
            "2.0\n",
            "4.0\n",
            "6.0\n",
            "8.0\n",
            "10.0\n",
            "12.0\n",
            "14.0\n",
            "16.0\n",
            "18.0\n",
            "20.0\n",
            "22.0\n",
            "24.0\n",
            "26.0\n",
            "28.0\n",
            "30.0\n",
            "32.0\n",
            "34.0\n",
            "36.0\n",
            "38.0\n",
            "40.0\n",
            "42.0\n",
            "44.0\n",
            "3062.0\n",
            "4064.0\n",
            "5066.0\n",
            "6068.0\n",
            "6070.0\n",
            "6072.0\n",
            "6074.0\n",
            "6076.0\n",
            "6078.0\n",
            "6080.0\n",
            "6082.0\n",
            "6084.0\n",
            "6086.0\n",
            "6088.0\n",
            "6090.0\n",
            "6092.0\n",
            "6094.0\n",
            "6096.0\n",
            "6098.0\n",
            "6100.0\n",
            "6102.0\n",
            "6104.0\n",
            "6106.0\n",
            "6108.0\n",
            "6110.0\n",
            "6112.0\n",
            "6114.0\n",
            "6116.0\n",
            "6118.0\n",
            "6120.0\n",
            "6122.0\n"
          ]
        }
      ]
    }
  ]
}